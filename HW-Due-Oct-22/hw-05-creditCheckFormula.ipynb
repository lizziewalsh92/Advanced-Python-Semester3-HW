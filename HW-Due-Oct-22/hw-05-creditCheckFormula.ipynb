{
 "cells": [
  {
   "cell_type": "markdown",
   "id": "beee42e4-1e9c-415c-8a78-e2ae5caa948b",
   "metadata": {},
   "source": [
    "### <mark>HOMEWORK FOR NEXT WEEK DUE WEDS 10/22: Build a credit check function<mark>\n",
    "\n",
    "Recall that we built a conditional expression to evaluate credit rating based on these values:\n",
    "\n",
    "- 300-579: Poor\n",
    "- 580-669: Fair\n",
    "- 670-739: Good\n",
    "- 740-799: Very good\n",
    "- 800-850: Excellent\n",
    "\n",
    "Now build a function that evaluates a score to return a rating, but also prints \"Your credit rating is **whatever**!\""
   ]
  },
  {
   "cell_type": "markdown",
   "id": "bf244aa6-0169-4470-85fa-72cc367b4886",
   "metadata": {},
   "source": [
    "## here is the expression we previously built:\n",
    "\n",
    "```python\n",
    "if credit <= 579:\n",
    "  print(f\"Your credit of {credit} is poor\")\n",
    "elif 579 < credit <= 669:\n",
    "  print(f\"Your credit of {credit} is fair\")\n",
    "elif 670 < credit <= 739:\n",
    "  print(f\"Your credit of {credit} is good\")\n",
    "elif 740 <= credit <= 799:\n",
    "  print(f\"Your credit of {credit} is very good\")\n",
    "else:\n",
    "  print(f\"Your credit of {credit} is excellent\")\n",
    "\n",
    "```\n",
    "\n",
    "Can you think of a way to make it more efficient and DRY."
   ]
  },
  {
   "cell_type": "code",
   "execution_count": 4,
   "id": "190ae4b9-6714-4e1b-992a-8f561fa6422a",
   "metadata": {},
   "outputs": [],
   "source": [
    "## Code your function here"
   ]
  },
  {
   "cell_type": "code",
   "execution_count": 99,
   "id": "ab627d55-cbd0-4361-89b2-f520a859c0aa",
   "metadata": {},
   "outputs": [],
   "source": [
    "## I want to be able to use my function in this way: CreditRating(\"score\") and it prints out the rating, but it also stores the function\n",
    "## so I can build more functions off of this one.\n",
    "\n",
    "def CreditEval(score):\n",
    "    \"\"\"\n",
    "    Defines credit rating thresholds and print rating message\n",
    "    \"\"\"\n",
    "    \n",
    "    if score <= 579:\n",
    "        rating = \"poor\"\n",
    "    elif 579 < score <=669:\n",
    "        rating = \"fair\"\n",
    "    elif 670 < score <= 739:\n",
    "         rating = \"good\"\n",
    "    elif 740 <= score <= 799:\n",
    "        rating = \"very good\"\n",
    "    else:\n",
    "        rating = \"excellent\"\n",
    "\n",
    "    print(f\"Your credit rating is {rating}.\")\n",
    "    return rating\n"
   ]
  },
  {
   "cell_type": "code",
   "execution_count": 101,
   "id": "60d51117-2284-426d-8d3f-8b1d05c27b0a",
   "metadata": {},
   "outputs": [
    {
     "name": "stdout",
     "output_type": "stream",
     "text": [
      "Your credit rating is fair.\n"
     ]
    },
    {
     "data": {
      "text/plain": [
       "'fair'"
      ]
     },
     "execution_count": 101,
     "metadata": {},
     "output_type": "execute_result"
    }
   ],
   "source": [
    "##check\n",
    "CreditEval(588)"
   ]
  },
  {
   "cell_type": "code",
   "execution_count": 103,
   "id": "d6eb5531-14db-4314-8653-1a245e61dc5c",
   "metadata": {},
   "outputs": [
    {
     "name": "stdout",
     "output_type": "stream",
     "text": [
      "Your credit rating is poor.\n",
      "poor\n"
     ]
    }
   ],
   "source": [
    "##make sure my return worked:\n",
    "\n",
    "my_rtg = CreditEval(450)\n",
    "print(my_rtg)"
   ]
  },
  {
   "cell_type": "code",
   "execution_count": 113,
   "id": "c9e24eb7-42d7-4301-8215-7c3eaf26656b",
   "metadata": {},
   "outputs": [
    {
     "name": "stdout",
     "output_type": "stream",
     "text": [
      "Keep working on it!\n"
     ]
    }
   ],
   "source": [
    "##checking to see if i REALLY did what I wanted:\n",
    "if my_rtg == \"very good\":\n",
    "    print(\"I can rent an apartment!\")\n",
    "else:\n",
    "    print(\"Keep working on it!\")"
   ]
  },
  {
   "cell_type": "markdown",
   "id": "4defc6a9-302c-4059-9922-cb7528d9cabb",
   "metadata": {},
   "source": [
    "### Takeaway: Difference between return and print\n",
    "Ok, so i need to use both a print statement and a return statement when defining functions if:\n",
    "I want the function's output to be reusable (define a variable using the defined function later) \n",
    "AND get an output when simply running the function."
   ]
  },
  {
   "cell_type": "code",
   "execution_count": null,
   "id": "1e960ff6-5e58-4b5e-b21e-e344e61495d0",
   "metadata": {},
   "outputs": [],
   "source": []
  }
 ],
 "metadata": {
  "kernelspec": {
   "display_name": "Python [conda env:base] *",
   "language": "python",
   "name": "conda-base-py"
  },
  "language_info": {
   "codemirror_mode": {
    "name": "ipython",
    "version": 3
   },
   "file_extension": ".py",
   "mimetype": "text/x-python",
   "name": "python",
   "nbconvert_exporter": "python",
   "pygments_lexer": "ipython3",
   "version": "3.12.7"
  }
 },
 "nbformat": 4,
 "nbformat_minor": 5
}
